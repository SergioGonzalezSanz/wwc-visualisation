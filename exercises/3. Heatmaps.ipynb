{
 "cells": [
  {
   "cell_type": "markdown",
   "metadata": {},
   "source": [
    "# Heatmaps\n",
    "\n",
    "<img src=\"files/images/heatmaps.png\" height=\"800\" width=\"800\">\n",
    "\n",
    "The goal of this exercise is to evaluate the distribution of the wines qualities as a function of two variables using heatmaps. We will plot:\n",
    "1. First row:\n",
    "  1. A heatmap for the average wine quality for red wines.\n",
    "  1. A heatmap for the number of samples of the red wines on each position of the matrix.\n",
    "1. Second row:\n",
    "  1. A heatmap for the average wine quality for white wines.\n",
    "  1. A heatmap for the number of samples of the white wines on each position of the matrix.\n",
    "\n",
    "In the figure above this text you have an example of what it can look it. Use the variables `n_bins` (number of bins), `x` (first variable) and `y` (second variable).\n",
    "\n",
    "Follow these steps:\n",
    "1. Compute the maximum and the minimum of the two features we want to plot. **Hint:**\n",
    "```\n",
    "min_x = min(min(red_wines[x]), min(white_wines[x]))\n",
    "```\n",
    "1. Compute the intervals for the matrix using numpy function `np.linspace()`. **Hint:**\n",
    "```\n",
    "int_x = np.linspace(min_x, max_x, n_bins+1)\n",
    "```\n",
    "1. Create a histogram of the wines using the function `np.digitize()`. You will need two dimensions. **Hint:** for the x dimension use:\n",
    "```\n",
    "red_wines['idx_x'] = np.digitize(red_wines[x], int_x)-1\n",
    "```\n",
    "1. Group the wines by their positions in the matrix. using the pandas function `groupby()`. Compute the average of the wine quality and the count of the number of wines. **Hint:** you can compute the count as:\n",
    "```\n",
    "red_matrix['count'] = red_wines.groupby(['idx_x', 'idx_y'])['quality'].count()\n",
    "```\n",
    "1. Turn the counts and the averages into matrices (you might need the function `np.reshape()`) and plot the images.\n",
    "\n",
    "**Optional**\n",
    "* Do you observe something 'weird' on the y axis? **Hint:** use `plt.gca().invert_yaxis()` to solve it.\n",
    "* Can you set the right ticks and labels to the x and y axes? **Hint:** use the functions:\n",
    "  * `ax.set_xticks()`.\n",
    "  * `ax.set_yticklabels()`.\n",
    "* Display a color bar using the function `plt.colorbar()`."
   ]
  },
  {
   "cell_type": "code",
   "execution_count": 2,
   "metadata": {
    "collapsed": true
   },
   "outputs": [],
   "source": [
    "from matplotlib import pyplot as plt\n",
    "from sklearn.decomposition import PCA\n",
    "import numpy as np\n",
    "import pandas as pd\n",
    "%matplotlib inline"
   ]
  },
  {
   "cell_type": "code",
   "execution_count": 3,
   "metadata": {
    "collapsed": true
   },
   "outputs": [],
   "source": [
    "red_wines = pd.read_csv(\"../data/winequality-red.csv\", sep=';', index_col='name')\n",
    "white_wines = pd.read_csv(\"../data/winequality-white.csv\", sep=';', index_col='name')\n",
    "white_wines.info()"
   ]
  },
  {
   "cell_type": "code",
   "execution_count": null,
   "metadata": {
    "collapsed": true
   },
   "outputs": [],
   "source": [
    "# Number of bins we want to plot (heatmap resolution)\n",
    "n_bins = 20\n",
    "# Feature 1\n",
    "x = 'fixed acidity'\n",
    "# Feature 2\n",
    "y = 'volatile acidity'"
   ]
  }
 ],
 "metadata": {
  "kernelspec": {
   "display_name": "Python 3",
   "language": "python",
   "name": "python3"
  },
  "language_info": {
   "codemirror_mode": {
    "name": "ipython",
    "version": 3
   },
   "file_extension": ".py",
   "mimetype": "text/x-python",
   "name": "python",
   "nbconvert_exporter": "python",
   "pygments_lexer": "ipython3",
   "version": "3.5.0"
  }
 },
 "nbformat": 4,
 "nbformat_minor": 0
}
