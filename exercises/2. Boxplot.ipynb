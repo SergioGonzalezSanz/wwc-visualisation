{
 "cells": [
  {
   "cell_type": "markdown",
   "metadata": {},
   "source": [
    "# Describing distributions using boxplots and histograms\n",
    "\n",
    "<img src=\"files/images/boxplot.png\" height=\"800\" width=\"800\">\n",
    "\n",
    "The goal of this exercise is to combine boxplot and histograms to describe the distribution of two features of the wine dataset.\n",
    "\n",
    "Try to reproduce the figure above. Follow these instructions:\n",
    "* Plot the *'residual sugar'* and the *'alcohol'* features. Use the name of the features as titles of the histograms.\n",
    "* The histograms uses twice the space than the boxplot. Take a look to the documentation of the `subplot2grid()` function [here](http://matplotlib.org/users/gridspec.html). **Hint:** use a grid of size (3, 2).\n",
    "* Remove the xtick labels from the histograms. **Hint:** use the `set_xticklabels()` function.\n",
    "* Display a vertical grid. **Hint:** use the `grid()` function in the xaxis.\n",
    "* Remove the yticks markers from the boxplots. **Hint:** use the `set_yticks()` function.\n",
    "* Remove the horizontal space between subplots. **Hint:** use the `subplots_adjust()` function.\n",
    "\n",
    "Which conclusions can be drawn from these plots regarding the distributions of the features?"
   ]
  },
  {
   "cell_type": "code",
   "execution_count": 1,
   "metadata": {
    "collapsed": false
   },
   "outputs": [
    {
     "name": "stdout",
     "output_type": "stream",
     "text": [
      "<class 'pandas.core.frame.DataFrame'>\n",
      "Index: 1599 entries, r0000 to r1598\n",
      "Data columns (total 12 columns):\n",
      "fixed acidity           1599 non-null float64\n",
      "volatile acidity        1599 non-null float64\n",
      "citric acid             1599 non-null float64\n",
      "residual sugar          1599 non-null float64\n",
      "chlorides               1599 non-null float64\n",
      "free sulfur dioxide     1599 non-null float64\n",
      "total sulfur dioxide    1599 non-null float64\n",
      "density                 1599 non-null float64\n",
      "pH                      1599 non-null float64\n",
      "sulphates               1599 non-null float64\n",
      "alcohol                 1599 non-null float64\n",
      "quality                 1599 non-null int64\n",
      "dtypes: float64(11), int64(1)\n",
      "memory usage: 162.4+ KB\n"
     ]
    }
   ],
   "source": [
    "import pandas as pd\n",
    "\n",
    "# We read the data in\n",
    "red_wines = pd.read_csv(\"../data/winequality-red.csv\", sep=';', index_col='name')\n",
    "red_wines.info()"
   ]
  }
 ],
 "metadata": {
  "kernelspec": {
   "display_name": "Python 3",
   "language": "python",
   "name": "python3"
  },
  "language_info": {
   "codemirror_mode": {
    "name": "ipython",
    "version": 3
   },
   "file_extension": ".py",
   "mimetype": "text/x-python",
   "name": "python",
   "nbconvert_exporter": "python",
   "pygments_lexer": "ipython3",
   "version": "3.4.3"
  }
 },
 "nbformat": 4,
 "nbformat_minor": 0
}
