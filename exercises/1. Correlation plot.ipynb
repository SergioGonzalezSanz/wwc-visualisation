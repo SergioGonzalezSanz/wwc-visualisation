{
 "cells": [
  {
   "cell_type": "markdown",
   "metadata": {},
   "source": [
    "# Correlation plot\n",
    "\n",
    "\n",
    "<img src=\"files/images/correlation_matrix.png\" height=\"800\" width=\"800\">\n",
    "\n",
    "A correlation matrix plot shows the correlation between different variables of a dataset. It is really useful when analysing the correlation between features before building a machine learning model.\n",
    "\n",
    "The goal of this exercise is to plot a correlation matrix for a set of features of the wine data set. You have to get a  similar figure to the one shown above:\n",
    "* For the elements in the diagonal of the matrix, plot the histogram of the *i* th feature using 15 bins.\n",
    "  * Use the name of the feature as title of the histogram.\n",
    "* For the elements above and below the diagonal of the matrix, show a scatter plot of the *i* th feature versus the *j* th.\n",
    "  * Use the names of the *i* th and the *j* th feature on the axes of the figure.\n",
    "  * Compute the correlation between the features and use it as the subplot title. **Tip:** use the following code to compute the correlation between two variables:\n",
    "```\n",
    "from numpy import corrcoef\n",
    "corr = corrcoef(x, y)[0, 1]\n",
    "```\n",
    "  * Use red 'x's for the red wine samples.\n",
    "  * Set the right axes limits for the individual subplots.\n",
    "* In order to make the figure look nicer, do this at the very end of your code:\n",
    "```\n",
    "plt.tight_layout()\n",
    "```\n",
    "\n",
    "You can use the code below in order to read the data in. It reduces the original dataset to the ones we will plot on the correlation matrix.\n",
    "\n",
    "You can get the names of the features you will need for the axes labels from the `features` array.\n",
    "\n",
    "**Hint:** use two nested `for` loops for plotting the graphs."
   ]
  },
  {
   "cell_type": "code",
   "execution_count": 3,
   "metadata": {
    "collapsed": false
   },
   "outputs": [],
   "source": [
    "import pandas as pd\n",
    "\n",
    "# We read the data in\n",
    "red_wines = pd.read_csv(\"../data/winequality-red.csv\", sep=';', index_col='name')\n",
    "\n",
    "# We select the features we want to plot\n",
    "# You can use this list for labelling your plots\n",
    "features = ['fixed acidity', 'citric acid', 'free sulfur dioxide', 'total sulfur dioxide']\n",
    "red_wines = red_wines[features]\n",
    "red_wines.info()"
   ]
  }
 ],
 "metadata": {
  "kernelspec": {
   "display_name": "Python 3",
   "language": "python",
   "name": "python3"
  },
  "language_info": {
   "codemirror_mode": {
    "name": "ipython",
    "version": 3
   },
   "file_extension": ".py",
   "mimetype": "text/x-python",
   "name": "python",
   "nbconvert_exporter": "python",
   "pygments_lexer": "ipython3",
   "version": "3.5.0"
  }
 },
 "nbformat": 4,
 "nbformat_minor": 0
}
