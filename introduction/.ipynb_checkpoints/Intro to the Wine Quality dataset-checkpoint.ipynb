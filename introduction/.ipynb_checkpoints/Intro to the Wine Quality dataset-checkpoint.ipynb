{
 "cells": [
  {
   "cell_type": "markdown",
   "metadata": {},
   "source": [
    "# Introduction to the Wine Quality dataset\n",
    "\n",
    "This intro contains a summary (with a few additions) of the dataset description that you can find [here](http://archive.ics.uci.edu/ml/machine-learning-databases/wine-quality/winequality.names).\n",
    "\n",
    "We have also included a couple of examples about how to read the data using Pandas. We assume you have already completed the introduction to pandas in this repository.\n",
    "\n",
    "## Dataset description\n",
    "\n",
    "The two datasets are related to red and white variants of the Portuguese \"Vinho Verde\" wine. For more details, consult  [http://www.vinhoverde.pt/en/](http://www.vinhoverde.pt/en/). You can also take a look to the paper that the dataset's donors wrote. It is titled *\"Modeling wine preferences\"* (you can find it in this folder). Due to privacy and logistic issues, only physicochemical (inputs) and sensory (the output) variables are available (e.g. there is no data about grape types, wine brand, wine selling price, etc.). For the WWC, the have added a column name with fake wine names for indexing purposes (and to be able to discuss the results we will obtain during the meetup).\n",
    "\n",
    "These datasets can be viewed as classification or regression tasks. The classes are ordered and not balanced (e.g. there are munch more normal wines than excellent or poor ones). Outlier detection algorithms could be used to detect the few excellent or poor wines. Also, we are not sure if all input variables are relevant. So it could be interesting to test feature selection methods. \n",
    "\n",
    "Some relevant data:\n",
    "1. **Number of Instances:** red wine - 1,599; white wine - 4,898.\n",
    "1. **Number of Attributes:** 12 + output attribute. *Note: several of the attributes may be correlated, thus it makes sense to apply some sort of feature selection*.\n",
    "1. **Attribute information:**\n",
    "  1. **Input variables (based on physicochemical tests):**  \n",
    "    1. Fixed acidity.\n",
    "    1. Volatile acidity.\n",
    "    1. Citric acid.\n",
    "    1. Residual sugar.\n",
    "    1. Chlorides.\n",
    "    1. Free sulfur dioxide.\n",
    "    1. Total sulfur dioxide.\n",
    "    1. Density.\n",
    "    1. pH.\n",
    "    1. Sulphates.\n",
    "    1. Alcohol.\n",
    "    1. Name.\n",
    "  1. **Output variable (based on sensory data):**  \n",
    "    1. Quality (score between 0 and 10)\n",
    "1. **Missing Attribute Values:** none.\n",
    "\n",
    "## File structure\n",
    "\n",
    "The dataset is split into two files:\n",
    "* The file **winequality-red.csv** contains 1,599 red wine records. All the names on the red wines starts with 'r'.\n",
    "* The file **winequality-white.csv** contains 4,898 white wine records. All the names starts with 'w'.\n",
    "\n",
    "You can find the data in this repo within the `data/` directory.\n",
    "\n",
    "**Important:** The data is in the csv (comma-separated values) format but it uses ';' to split the values rather than ','. Please make sure you specify the right separator when ingesting the data.\n",
    "\n",
    "## Reading the data\n",
    "\n",
    "We will use pandas to read and manipulate the data.\n",
    "\n",
    "Make sure you use the right separator for the data (;) and use the *name* and index column for the data."
   ]
  },
  {
   "cell_type": "code",
   "execution_count": 5,
   "metadata": {
    "collapsed": true
   },
   "outputs": [],
   "source": [
    "import pandas as pd\n",
    "\n",
    "# We are assuming this notebook is in a first level subdirectory of the repo so the data will be ../data\n",
    "# Change the directory accordinly to the location of your notebook\n",
    "red_wines = pd.read_csv(\"../data/winequality-red.csv\", sep=';', index_col='name')\n",
    "white_wines = pd.read_csv(\"../data/winequality-white.csv\", sep=';', index_col='name')"
   ]
  },
  {
   "cell_type": "markdown",
   "metadata": {},
   "source": [
    "And now we can check that the data was ingested as expected:"
   ]
  },
  {
   "cell_type": "code",
   "execution_count": 2,
   "metadata": {
    "collapsed": false
   },
   "outputs": [
    {
     "name": "stdout",
     "output_type": "stream",
     "text": [
      "<class 'pandas.core.frame.DataFrame'>\n",
      "Index: 1599 entries, r0000 to r1598\n",
      "Data columns (total 12 columns):\n",
      "fixed acidity           1599 non-null float64\n",
      "volatile acidity        1599 non-null float64\n",
      "citric acid             1599 non-null float64\n",
      "residual sugar          1599 non-null float64\n",
      "chlorides               1599 non-null float64\n",
      "free sulfur dioxide     1599 non-null float64\n",
      "total sulfur dioxide    1599 non-null float64\n",
      "density                 1599 non-null float64\n",
      "pH                      1599 non-null float64\n",
      "sulphates               1599 non-null float64\n",
      "alcohol                 1599 non-null float64\n",
      "quality                 1599 non-null int64\n",
      "dtypes: float64(11), int64(1)\n",
      "memory usage: 162.4+ KB\n"
     ]
    }
   ],
   "source": [
    "red_wines.info()"
   ]
  },
  {
   "cell_type": "code",
   "execution_count": 4,
   "metadata": {
    "collapsed": false
   },
   "outputs": [
    {
     "name": "stdout",
     "output_type": "stream",
     "text": [
      "<class 'pandas.core.frame.DataFrame'>\n",
      "Index: 4898 entries, w0000 to w4897\n",
      "Data columns (total 12 columns):\n",
      "fixed acidity           4898 non-null float64\n",
      "volatile acidity        4898 non-null float64\n",
      "citric acid             4898 non-null float64\n",
      "residual sugar          4898 non-null float64\n",
      "chlorides               4898 non-null float64\n",
      "free sulfur dioxide     4898 non-null float64\n",
      "total sulfur dioxide    4898 non-null float64\n",
      "density                 4898 non-null float64\n",
      "pH                      4898 non-null float64\n",
      "sulphates               4898 non-null float64\n",
      "alcohol                 4898 non-null float64\n",
      "quality                 4898 non-null int64\n",
      "dtypes: float64(11), int64(1)\n",
      "memory usage: 497.5+ KB\n"
     ]
    }
   ],
   "source": [
    "white_wines.info()"
   ]
  },
  {
   "cell_type": "code",
   "execution_count": null,
   "metadata": {
    "collapsed": true
   },
   "outputs": [],
   "source": []
  }
 ],
 "metadata": {
  "kernelspec": {
   "display_name": "Python 3",
   "language": "python",
   "name": "python3"
  },
  "language_info": {
   "codemirror_mode": {
    "name": "ipython",
    "version": 3
   },
   "file_extension": ".py",
   "mimetype": "text/x-python",
   "name": "python",
   "nbconvert_exporter": "python",
   "pygments_lexer": "ipython3",
   "version": "3.5.0"
  }
 },
 "nbformat": 4,
 "nbformat_minor": 0
}
