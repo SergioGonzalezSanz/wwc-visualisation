{
 "cells": [
  {
   "cell_type": "markdown",
   "metadata": {},
   "source": [
    "# Introduction to matplotlib\n",
    "\n",
    "<img src=\"files/images/surface3d_demo.png\" height=\"600\" width=\"600\">"
   ]
  },
  {
   "cell_type": "markdown",
   "metadata": {},
   "source": [
    "[Matplotlib](http://matplotlib.org/) is Matlab-like package in Python for data visualization. It's mostly used for static visualizations but it also has some extensions (like widgets, slides, buttons, etc) for interactive plotting.\n",
    "\n",
    "## Installing matplotlib\n",
    "\n",
    "In Mac and the linux-based systems (e.g. Ubuntu, RedHat, etc.), the easiest way of installing matplotlib is using *pip*:\n",
    "\n",
    "- For Python 2.X:\n",
    "\n",
    "`pip install matplotlib`\n",
    "\n",
    "- For Python 3.X:\n",
    "\n",
    "`pip3 install matplotlib`\n",
    "\n",
    "In Windows, the best way of installing most of the Python packages you would use is installing [WinPython](https://winpython.github.io/)."
   ]
  },
  {
   "cell_type": "markdown",
   "metadata": {},
   "source": [
    "## Getting to know matplotlib\n",
    "\n",
    "The best way of learning matplotlib is using it.\n",
    "\n",
    "Take a look to the plots gallery [here](http://matplotlib.org/gallery.html). Just pick the graph you like and try to reproduce it using your own data!\n",
    "\n",
    "We recommend you to take a detailed look to the following plotting functions since they will be used during the meetup:\n",
    "1. [Basic plots](http://matplotlib.org/api/pyplot_api.html#matplotlib.pyplot.plot).\n",
    "1. [Scatter plots](http://matplotlib.org/api/pyplot_api.html#matplotlib.pyplot.scatter).\n",
    "1. [Histograms](http://matplotlib.org/api/pyplot_api.html#matplotlib.pyplot.hist).\n",
    "1. [Boxplots](http://matplotlib.org/api/pyplot_api.html#matplotlib.pyplot.boxplot)."
   ]
  }
 ],
 "metadata": {
  "kernelspec": {
   "display_name": "Python 3",
   "language": "python",
   "name": "python3"
  },
  "language_info": {
   "codemirror_mode": {
    "name": "ipython",
    "version": 3
   },
   "file_extension": ".py",
   "mimetype": "text/x-python",
   "name": "python",
   "nbconvert_exporter": "python",
   "pygments_lexer": "ipython3",
   "version": "3.5.0"
  }
 },
 "nbformat": 4,
 "nbformat_minor": 0
}
