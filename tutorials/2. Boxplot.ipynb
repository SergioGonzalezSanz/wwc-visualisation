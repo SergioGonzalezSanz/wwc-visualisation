{
 "cells": [
  {
   "cell_type": "markdown",
   "metadata": {},
   "source": [
    "# Boxplot\n",
    "<img src=\"files/images/boxplot.png\" height=\"400\" width=\"200\">\n",
    "\n",
    "A boxplot is a plot of the distribution of the values of a feature. The most standard boxplot (known as *Tukey boxplot*) have the following components:\n",
    "* A **box** (with or without a notch). The bottom of the box represents the first quartile of the variable and the top of the box the third quartile.\n",
    "  * The middle of the box corresponds to the **median** of the variable.\n",
    "* Two **whiskers**. They plot the range [Q1 - 1.5\\*IQR, Q3 + 1.5\\*IQR] where IQR is the inter-quartile range (Q3 - Q1).\n",
    "* **Outliers**. They plot the samples outside the whiskers range."
   ]
  },
  {
   "cell_type": "markdown",
   "metadata": {},
   "source": [
    "## Matplotlib *boxplot()* documentation\n",
    "\n",
    "Make a box and whisker plot for each column of x or each vector in sequence x. The box extends from the lower to upper quartile values of the data, with a line at the median. The whiskers extend from the box to show the range of the data. Flier points are those past the end of the whiskers.\n",
    "\n",
    "Parameters:\t\n",
    "* **x:** array or a sequence of vectors. The input data.\n",
    "* **notch:** bool, default = *False*. If *False*, produces a rectangular box plot. If *True*, will produce a notched box plot.\n",
    "* **sym:** str or *None*, default = *None*. The default symbol for flier points. Enter an empty string (‘’) if you don’t want to show fliers. If *None*, then the fliers default to ‘b+’ If you want more control use the flierprops kwarg.\n",
    "* **vert:** bool, default = *True*. If *True* (default), makes the boxes vertical. If *False*, makes horizontal boxes.\n",
    "* **whis:** float, sequence (default = 1.5) or string. As a float, determines the reach of the whiskers past the first and third quartiles (e.g., Q3 + whis*IQR, IQR = interquartile range, Q3-Q1). Beyond the whiskers, data are considered outliers and are plotted as individual points. Set this to an unreasonably high value to force the whiskers to show the min and max values. Alternatively, set this to an ascending sequence of percentile (e.g., [5, 95]) to set the whiskers at specific percentiles of the data. Finally, whis can be the string ‘range’ to force the whiskers to the min and max of the data. In the edge case that the 25th and 75th percentiles are equivalent, whis will be automatically set to ‘range’.\n"
   ]
  },
  {
   "cell_type": "code",
   "execution_count": 2,
   "metadata": {
    "collapsed": false
   },
   "outputs": [
    {
     "name": "stdout",
     "output_type": "stream",
     "text": [
      "<class 'pandas.core.frame.DataFrame'>\n",
      "Index: 1599 entries, r0000 to r1598\n",
      "Data columns (total 12 columns):\n",
      "fixed acidity           1599 non-null float64\n",
      "volatile acidity        1599 non-null float64\n",
      "citric acid             1599 non-null float64\n",
      "residual sugar          1599 non-null float64\n",
      "chlorides               1599 non-null float64\n",
      "free sulfur dioxide     1599 non-null float64\n",
      "total sulfur dioxide    1599 non-null float64\n",
      "density                 1599 non-null float64\n",
      "pH                      1599 non-null float64\n",
      "sulphates               1599 non-null float64\n",
      "alcohol                 1599 non-null float64\n",
      "quality                 1599 non-null int64\n",
      "dtypes: float64(11), int64(1)\n",
      "memory usage: 162.4+ KB\n"
     ]
    }
   ],
   "source": [
    "import pandas as pd\n",
    "\n",
    "# We read the data in\n",
    "red_wines = pd.read_csv(\"../data/winequality-red.csv\", sep=';', index_col='name')\n",
    "red_wines.info()"
   ]
  },
  {
   "cell_type": "markdown",
   "metadata": {},
   "source": [
    "Let's know display a boxplot of the 'fixed acidity' of the red wines:"
   ]
  },
  {
   "cell_type": "code",
   "execution_count": 3,
   "metadata": {
    "collapsed": false
   },
   "outputs": [
    {
     "data": {
      "image/png": "[encoded data removed]",
      "text/plain": [
       "<matplotlib.figure.Figure at 0x7fe1e626d7b8>"
      ]
     },
     "metadata": {},
     "output_type": "display_data"
    }
   ],
   "source": [
    "import matplotlib.pyplot as plt\n",
    "%matplotlib inline\n",
    "\n",
    "plt.figure()\n",
    "plt.boxplot(red_wines['density'].values, notch=True)\n",
    "plt.title('density');"
   ]
  },
  {
   "cell_type": "markdown",
   "metadata": {},
   "source": [
    "What can you say about the red wines density using this plot?\n",
    "\n",
    "You can also personalised the boxplot:"
   ]
  },
  {
   "cell_type": "code",
   "execution_count": 26,
   "metadata": {
    "collapsed": false
   },
   "outputs": [
    {
     "data": {
      "image/png": "[encoded data removed]",
      "text/plain": [
       "<matplotlib.figure.Figure at 0x7fe1dee4a518>"
      ]
     },
     "metadata": {},
     "output_type": "display_data"
    }
   ],
   "source": [
    "# List of features we want to use\n",
    "features = ['pH', 'sulphates']\n",
    "\n",
    "# List of colors for the boxes\n",
    "colors = ['pink', 'lightblue']\n",
    "\n",
    "# Outliers properties\n",
    "flierprops = dict(marker='o', markerfacecolor='red', markersize=10, linestyle='none')\n",
    "\n",
    "# Figure creation\n",
    "plt.figure()\n",
    "axes = plt.subplot(1, 1, 1)   # We get the axes of the figure\n",
    "boxplot = plt.boxplot(red_wines[features].values, notch=True,\n",
    "                      patch_artist=True, # Boxplot color\n",
    "                      flierprops=flierprops)\n",
    "for patch, color in zip(boxplot.get('boxes'), colors):  # We fill the boxes with the right color\n",
    "    patch.set_facecolor(color)\n",
    "\n",
    "# Set the right labels\n",
    "plt.xlabel('Features')\n",
    "plt.title('Personalised boxplot');\n",
    "plt.setp(axes, xticks=[y+1 for y in range(len(features))], xticklabels=features);"
   ]
  },
  {
   "cell_type": "markdown",
   "metadata": {},
   "source": [
    "Let's know compare the results we obtained from the boxplot against a histogram of the feature:"
   ]
  }
 ],
 "metadata": {
  "kernelspec": {
   "display_name": "Python 3",
   "language": "python",
   "name": "python3"
  },
  "language_info": {
   "codemirror_mode": {
    "name": "ipython",
    "version": 3
   },
   "file_extension": ".py",
   "mimetype": "text/x-python",
   "name": "python",
   "nbconvert_exporter": "python",
   "pygments_lexer": "ipython3",
   "version": "3.4.3"
  }
 },
 "nbformat": 4,
 "nbformat_minor": 0
}
